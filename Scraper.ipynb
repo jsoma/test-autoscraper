{
 "cells": [
  {
   "cell_type": "markdown",
   "metadata": {},
   "source": [
    "# Scraping headlines"
   ]
  },
  {
   "cell_type": "code",
   "execution_count": 1,
   "metadata": {},
   "outputs": [],
   "source": [
    "import requests\n",
    "from bs4 import BeautifulSoup"
   ]
  },
  {
   "cell_type": "code",
   "execution_count": 2,
   "metadata": {},
   "outputs": [],
   "source": [
    "response = requests.get(\"https://www.lrt.lt/en/news-in-english\")\n",
    "doc = BeautifulSoup(response.text)"
   ]
  },
  {
   "cell_type": "code",
   "execution_count": 9,
   "metadata": {},
   "outputs": [
    {
     "data": {
      "text/plain": [
       "42"
      ]
     },
     "execution_count": 9,
     "metadata": {},
     "output_type": "execute_result"
    }
   ],
   "source": [
    "items = doc.select(\".news\")\n",
    "\n",
    "articles = []\n",
    "for item in items:\n",
    "    url = item.select_one(\"a\")['href']\n",
    "    headline = item.select_one(\"h3\").text\n",
    "    img = item.select_one(\"img\").get('data-src', None)\n",
    "    article = {\n",
    "        'url': url,\n",
    "        'headline': headline,\n",
    "        'image': img\n",
    "    }\n",
    "    articles.append(article)\n",
    "\n",
    "len(articles)"
   ]
  },
  {
   "cell_type": "code",
   "execution_count": 10,
   "metadata": {},
   "outputs": [
    {
     "data": {
      "text/html": [
       "<div>\n",
       "<style scoped>\n",
       "    .dataframe tbody tr th:only-of-type {\n",
       "        vertical-align: middle;\n",
       "    }\n",
       "\n",
       "    .dataframe tbody tr th {\n",
       "        vertical-align: top;\n",
       "    }\n",
       "\n",
       "    .dataframe thead th {\n",
       "        text-align: right;\n",
       "    }\n",
       "</style>\n",
       "<table border=\"1\" class=\"dataframe\">\n",
       "  <thead>\n",
       "    <tr style=\"text-align: right;\">\n",
       "      <th></th>\n",
       "      <th>url</th>\n",
       "      <th>headline</th>\n",
       "      <th>image</th>\n",
       "    </tr>\n",
       "  </thead>\n",
       "  <tbody>\n",
       "    <tr>\n",
       "      <th>0</th>\n",
       "      <td>/en/news-in-english/19/2050571/lithuanian-pm-v...</td>\n",
       "      <td>Lithuanian PM voices confidence in defence min...</td>\n",
       "      <td>/img/2023/02/18/1451044-637891-150x84.jpg</td>\n",
       "    </tr>\n",
       "    <tr>\n",
       "      <th>1</th>\n",
       "      <td>/en/news-in-english/19/2050524/lithuania-deems...</td>\n",
       "      <td>Lithuania deems 1,164 Belarusian and Russian n...</td>\n",
       "      <td>/img/2022/03/01/1207094-733403-150x84.jpg</td>\n",
       "    </tr>\n",
       "    <tr>\n",
       "      <th>2</th>\n",
       "      <td>/en/news-in-english/19/2050519/vilnius-ex-mayo...</td>\n",
       "      <td>Vilnius ex-mayor Å imaÅ¡ius returns to private...</td>\n",
       "      <td>/img/2023/04/17/1491828-404400-150x84.jpg</td>\n",
       "    </tr>\n",
       "    <tr>\n",
       "      <th>3</th>\n",
       "      <td>/en/news-in-english/19/2050432/lithuania-s-sup...</td>\n",
       "      <td>Lithuania's support to Ukraine includes helico...</td>\n",
       "      <td>/img/2023/07/20/1555673-67448-150x84.jpg</td>\n",
       "    </tr>\n",
       "    <tr>\n",
       "      <th>4</th>\n",
       "      <td>/en/news-in-english/19/2050380/latvia-to-ask-t...</td>\n",
       "      <td>Latvia to ask thousands of Russian citizens to...</td>\n",
       "      <td>/img/2019/08/05/485338-154587-150x84.jpg</td>\n",
       "    </tr>\n",
       "  </tbody>\n",
       "</table>\n",
       "</div>"
      ],
      "text/plain": [
       "                                                 url   \n",
       "0  /en/news-in-english/19/2050571/lithuanian-pm-v...  \\\n",
       "1  /en/news-in-english/19/2050524/lithuania-deems...   \n",
       "2  /en/news-in-english/19/2050519/vilnius-ex-mayo...   \n",
       "3  /en/news-in-english/19/2050432/lithuania-s-sup...   \n",
       "4  /en/news-in-english/19/2050380/latvia-to-ask-t...   \n",
       "\n",
       "                                            headline   \n",
       "0  Lithuanian PM voices confidence in defence min...  \\\n",
       "1  Lithuania deems 1,164 Belarusian and Russian n...   \n",
       "2  Vilnius ex-mayor Å imaÅ¡ius returns to private...   \n",
       "3  Lithuania's support to Ukraine includes helico...   \n",
       "4  Latvia to ask thousands of Russian citizens to...   \n",
       "\n",
       "                                       image  \n",
       "0  /img/2023/02/18/1451044-637891-150x84.jpg  \n",
       "1  /img/2022/03/01/1207094-733403-150x84.jpg  \n",
       "2  /img/2023/04/17/1491828-404400-150x84.jpg  \n",
       "3   /img/2023/07/20/1555673-67448-150x84.jpg  \n",
       "4   /img/2019/08/05/485338-154587-150x84.jpg  "
      ]
     },
     "execution_count": 10,
     "metadata": {},
     "output_type": "execute_result"
    }
   ],
   "source": [
    "import pandas as pd\n",
    "\n",
    "df = pd.DataFrame(articles)\n",
    "df.head()"
   ]
  },
  {
   "cell_type": "markdown",
   "metadata": {},
   "source": [
    "# What to do with the results?\n",
    "\n",
    "## Save one file of current data"
   ]
  },
  {
   "cell_type": "code",
   "execution_count": 19,
   "metadata": {},
   "outputs": [],
   "source": [
    "df.to_csv(\"current-headlines.csv\", index=False)"
   ]
  },
  {
   "cell_type": "markdown",
   "metadata": {},
   "source": [
    "## New file for every scrape"
   ]
  },
  {
   "cell_type": "code",
   "execution_count": 14,
   "metadata": {},
   "outputs": [],
   "source": [
    "import os\n",
    "\n",
    "os.makedirs('data', exist_ok=True)"
   ]
  },
  {
   "cell_type": "code",
   "execution_count": 20,
   "metadata": {},
   "outputs": [],
   "source": [
    "from datetime import datetime\n",
    "\n",
    "date_string = datetime.now().strftime(\"%Y-%m-%d-%H.%M.%S\")\n",
    "filepath = f\"data/headlines-{date_string}.csv\"\n",
    "\n",
    "df.to_csv(filepath, index=False)"
   ]
  },
  {
   "cell_type": "markdown",
   "metadata": {},
   "source": [
    "## Append to existing file"
   ]
  },
  {
   "cell_type": "code",
   "execution_count": 28,
   "metadata": {},
   "outputs": [
    {
     "data": {
      "text/html": [
       "<div>\n",
       "<style scoped>\n",
       "    .dataframe tbody tr th:only-of-type {\n",
       "        vertical-align: middle;\n",
       "    }\n",
       "\n",
       "    .dataframe tbody tr th {\n",
       "        vertical-align: top;\n",
       "    }\n",
       "\n",
       "    .dataframe thead th {\n",
       "        text-align: right;\n",
       "    }\n",
       "</style>\n",
       "<table border=\"1\" class=\"dataframe\">\n",
       "  <thead>\n",
       "    <tr style=\"text-align: right;\">\n",
       "      <th></th>\n",
       "    </tr>\n",
       "  </thead>\n",
       "  <tbody>\n",
       "  </tbody>\n",
       "</table>\n",
       "</div>"
      ],
      "text/plain": [
       "Empty DataFrame\n",
       "Columns: []\n",
       "Index: []"
      ]
     },
     "execution_count": 28,
     "metadata": {},
     "output_type": "execute_result"
    }
   ],
   "source": [
    "import os\n",
    "\n",
    "existing_filename = \"running-log.csv\"\n",
    "\n",
    "try:\n",
    "    existing = pd.read_csv(existing_filename)\n",
    "except:\n",
    "    existing = pd.DataFrame([])\n",
    "existing"
   ]
  },
  {
   "cell_type": "code",
   "execution_count": 29,
   "metadata": {},
   "outputs": [
    {
     "data": {
      "text/html": [
       "<div>\n",
       "<style scoped>\n",
       "    .dataframe tbody tr th:only-of-type {\n",
       "        vertical-align: middle;\n",
       "    }\n",
       "\n",
       "    .dataframe tbody tr th {\n",
       "        vertical-align: top;\n",
       "    }\n",
       "\n",
       "    .dataframe thead th {\n",
       "        text-align: right;\n",
       "    }\n",
       "</style>\n",
       "<table border=\"1\" class=\"dataframe\">\n",
       "  <thead>\n",
       "    <tr style=\"text-align: right;\">\n",
       "      <th></th>\n",
       "      <th>url</th>\n",
       "      <th>headline</th>\n",
       "      <th>image</th>\n",
       "    </tr>\n",
       "  </thead>\n",
       "  <tbody>\n",
       "    <tr>\n",
       "      <th>0</th>\n",
       "      <td>/en/news-in-english/19/2050571/lithuanian-pm-v...</td>\n",
       "      <td>Lithuanian PM voices confidence in defence min...</td>\n",
       "      <td>/img/2023/02/18/1451044-637891-150x84.jpg</td>\n",
       "    </tr>\n",
       "    <tr>\n",
       "      <th>1</th>\n",
       "      <td>/en/news-in-english/19/2050524/lithuania-deems...</td>\n",
       "      <td>Lithuania deems 1,164 Belarusian and Russian n...</td>\n",
       "      <td>/img/2022/03/01/1207094-733403-150x84.jpg</td>\n",
       "    </tr>\n",
       "    <tr>\n",
       "      <th>2</th>\n",
       "      <td>/en/news-in-english/19/2050519/vilnius-ex-mayo...</td>\n",
       "      <td>Vilnius ex-mayor Å imaÅ¡ius returns to private...</td>\n",
       "      <td>/img/2023/04/17/1491828-404400-150x84.jpg</td>\n",
       "    </tr>\n",
       "    <tr>\n",
       "      <th>3</th>\n",
       "      <td>/en/news-in-english/19/2050432/lithuania-s-sup...</td>\n",
       "      <td>Lithuania's support to Ukraine includes helico...</td>\n",
       "      <td>/img/2023/07/20/1555673-67448-150x84.jpg</td>\n",
       "    </tr>\n",
       "    <tr>\n",
       "      <th>4</th>\n",
       "      <td>/en/news-in-english/19/2050380/latvia-to-ask-t...</td>\n",
       "      <td>Latvia to ask thousands of Russian citizens to...</td>\n",
       "      <td>/img/2019/08/05/485338-154587-150x84.jpg</td>\n",
       "    </tr>\n",
       "  </tbody>\n",
       "</table>\n",
       "</div>"
      ],
      "text/plain": [
       "                                                 url   \n",
       "0  /en/news-in-english/19/2050571/lithuanian-pm-v...  \\\n",
       "1  /en/news-in-english/19/2050524/lithuania-deems...   \n",
       "2  /en/news-in-english/19/2050519/vilnius-ex-mayo...   \n",
       "3  /en/news-in-english/19/2050432/lithuania-s-sup...   \n",
       "4  /en/news-in-english/19/2050380/latvia-to-ask-t...   \n",
       "\n",
       "                                            headline   \n",
       "0  Lithuanian PM voices confidence in defence min...  \\\n",
       "1  Lithuania deems 1,164 Belarusian and Russian n...   \n",
       "2  Vilnius ex-mayor Å imaÅ¡ius returns to private...   \n",
       "3  Lithuania's support to Ukraine includes helico...   \n",
       "4  Latvia to ask thousands of Russian citizens to...   \n",
       "\n",
       "                                       image  \n",
       "0  /img/2023/02/18/1451044-637891-150x84.jpg  \n",
       "1  /img/2022/03/01/1207094-733403-150x84.jpg  \n",
       "2  /img/2023/04/17/1491828-404400-150x84.jpg  \n",
       "3   /img/2023/07/20/1555673-67448-150x84.jpg  \n",
       "4   /img/2019/08/05/485338-154587-150x84.jpg  "
      ]
     },
     "execution_count": 29,
     "metadata": {},
     "output_type": "execute_result"
    }
   ],
   "source": [
    "complete = pd.concat([existing, df], ignore_index=True)\n",
    "complete.head()"
   ]
  },
  {
   "cell_type": "code",
   "execution_count": 30,
   "metadata": {},
   "outputs": [],
   "source": [
    "complete.to_csv(existing_filename)"
   ]
  },
  {
   "cell_type": "code",
   "execution_count": null,
   "metadata": {},
   "outputs": [],
   "source": []
  }
 ],
 "metadata": {
  "kernelspec": {
   "display_name": "Python 3 (ipykernel)",
   "language": "python",
   "name": "python3"
  },
  "language_info": {
   "codemirror_mode": {
    "name": "ipython",
    "version": 3
   },
   "file_extension": ".py",
   "mimetype": "text/x-python",
   "name": "python",
   "nbconvert_exporter": "python",
   "pygments_lexer": "ipython3",
   "version": "3.10.3"
  }
 },
 "nbformat": 4,
 "nbformat_minor": 2
}
